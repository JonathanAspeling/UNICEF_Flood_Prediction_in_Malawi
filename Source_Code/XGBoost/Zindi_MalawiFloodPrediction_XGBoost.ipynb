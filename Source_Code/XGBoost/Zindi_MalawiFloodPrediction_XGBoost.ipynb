{
 "cells": [
  {
   "cell_type": "code",
   "execution_count": 1,
   "metadata": {},
   "outputs": [],
   "source": [
    "import numpy as np\n",
    "import pandas as pd\n",
    "#from sklearn.ensemble import RandomForestClassifier\n",
    "#from sklearn.linear_model import LinearRegression\n",
    "import xgboost as xgb\n",
    "from sklearn import preprocessing\n",
    "from sklearn import utils\n",
    "import time as t"
   ]
  },
  {
   "cell_type": "code",
   "execution_count": 2,
   "metadata": {},
   "outputs": [],
   "source": [
    "source_df = pd.read_csv('C:\\\\Users\\\\Jonathan McAwesome\\\\Dropbox\\\\Projects\\\\UNICEF_Flood_Prediction_in_Malawi\\\\Source_Data\\\\Zindi\\\\train.csv',index_col='Square_ID')"
   ]
  },
  {
   "cell_type": "code",
   "execution_count": 3,
   "metadata": {},
   "outputs": [
    {
     "name": "stderr",
     "output_type": "stream",
     "text": [
      "C:\\ProgramData\\Anaconda3\\lib\\site-packages\\ipykernel_launcher.py:13: SettingWithCopyWarning: \n",
      "A value is trying to be set on a copy of a slice from a DataFrame.\n",
      "Try using .loc[row_indexer,col_indexer] = value instead\n",
      "\n",
      "See the caveats in the documentation: http://pandas.pydata.org/pandas-docs/stable/indexing.html#indexing-view-versus-copy\n",
      "  del sys.path[0]\n",
      "C:\\ProgramData\\Anaconda3\\lib\\site-packages\\ipykernel_launcher.py:21: SettingWithCopyWarning: \n",
      "A value is trying to be set on a copy of a slice from a DataFrame.\n",
      "Try using .loc[row_indexer,col_indexer] = value instead\n",
      "\n",
      "See the caveats in the documentation: http://pandas.pydata.org/pandas-docs/stable/indexing.html#indexing-view-versus-copy\n"
     ]
    }
   ],
   "source": [
    "# Change Date Ranges to Week1,Week2 etc.\n",
    "\n",
    "column_names = list(source_df.columns)\n",
    "source_df_2015 =source_df[['X','Y','elevation','LC_Type1_mode','target_2015']]\n",
    "source_df_2019 =source_df[['X','Y','elevation','LC_Type1_mode']]\n",
    "\n",
    "x=1\n",
    "\n",
    "for i in column_names:\n",
    "    if i[0:6]=='precip':\n",
    "        #print(type(i[7:11]))\n",
    "        if i[7:11] == '2014'or i[7:11] =='2015':\n",
    "            source_df_2015['Week'+str(x)] = source_df[str(i)]\n",
    "            #source_df.drop(i,axis=1,inplace=True)\n",
    "            x= x+1\n",
    "x=1\n",
    "for i in column_names:\n",
    "    if i[0:6]=='precip':\n",
    "        #print(type(i[7:11]))\n",
    "        if i[7:11] == '2019':\n",
    "            source_df_2019['Week'+str(x)] = source_df[str(i)]\n",
    "            #source_df.drop(i,axis=1,inplace=True)\n",
    "            x= x+1\n",
    "\n"
   ]
  },
  {
   "cell_type": "code",
   "execution_count": 4,
   "metadata": {},
   "outputs": [],
   "source": [
    "# Rework Catagorical Data to Numerical Location Type.\n",
    "source_df_2015 = pd.get_dummies(source_df_2015,prefix=\"lc_type\",columns=['LC_Type1_mode'])\n",
    "source_df_2019 = pd.get_dummies(source_df_2019,prefix=\"lc_type\",columns=['LC_Type1_mode'])"
   ]
  },
  {
   "cell_type": "code",
   "execution_count": 5,
   "metadata": {},
   "outputs": [],
   "source": [
    "y = list(source_df_2015['target_2015'])\n",
    "X = source_df_2015.drop('target_2015',axis=1)\n",
    "dtrain = xgb.DMatrix(X, label=y)\n"
   ]
  },
  {
   "cell_type": "code",
   "execution_count": 6,
   "metadata": {},
   "outputs": [],
   "source": [
    "# Max Depth = 3 best so far. Tried 6, 2\n",
    "param = {'max_depth':3, 'eta':1, 'objective':'binary:logistic' }\n",
    "# 4 Boosting Rounds Worked Best, tried: 2,3,5,120,60\n",
    "num_round = 4\n",
    "xgb_model = xgb.train(param, dtrain, num_round)"
   ]
  },
  {
   "cell_type": "code",
   "execution_count": 7,
   "metadata": {},
   "outputs": [],
   "source": [
    "dpredict = xgb.DMatrix(source_df_2019)\n",
    "source_df_2019['target_2019'] = xgb_model.predict(dpredict)"
   ]
  },
  {
   "cell_type": "code",
   "execution_count": 8,
   "metadata": {},
   "outputs": [
    {
     "data": {
      "text/plain": [
       "time.struct_time(tm_year=2020, tm_mon=4, tm_mday=1, tm_hour=18, tm_min=55, tm_sec=1, tm_wday=2, tm_yday=92, tm_isdst=0)"
      ]
     },
     "execution_count": 8,
     "metadata": {},
     "output_type": "execute_result"
    }
   ],
   "source": [
    "t.localtime()"
   ]
  },
  {
   "cell_type": "code",
   "execution_count": 9,
   "metadata": {},
   "outputs": [],
   "source": [
    "Hour = t.localtime().tm_hour\n",
    "Minute = t.localtime().tm_min\n",
    "Year = t.localtime().tm_year\n",
    "Month = '0'+str(t.localtime().tm_mon)\n",
    "Day = '0'+str(t.localtime().tm_mday)\n",
    "source_df_2019['target_2019'].to_csv(f'{Year}{Month}{Day} {Hour}H{Minute} XGBoost_prediction.csv',header=True)"
   ]
  }
 ],
 "metadata": {
  "kernelspec": {
   "display_name": "Python 3",
   "language": "python",
   "name": "python3"
  },
  "language_info": {
   "codemirror_mode": {
    "name": "ipython",
    "version": 3
   },
   "file_extension": ".py",
   "mimetype": "text/x-python",
   "name": "python",
   "nbconvert_exporter": "python",
   "pygments_lexer": "ipython3",
   "version": "3.7.3"
  }
 },
 "nbformat": 4,
 "nbformat_minor": 2
}
