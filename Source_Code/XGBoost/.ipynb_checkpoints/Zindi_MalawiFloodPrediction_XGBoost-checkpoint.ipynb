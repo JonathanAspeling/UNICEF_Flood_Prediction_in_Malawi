{
 "cells": [
  {
   "cell_type": "code",
   "execution_count": 1,
   "metadata": {},
   "outputs": [],
   "source": [
    "import numpy as np\n",
    "import pandas as pd\n",
    "#from sklearn.ensemble import RandomForestClassifier\n",
    "#from sklearn.linear_model import LinearRegression\n",
    "import xgboost as xgb\n",
    "from sklearn import preprocessing\n",
    "from sklearn import utils"
   ]
  },
  {
   "cell_type": "code",
   "execution_count": 2,
   "metadata": {},
   "outputs": [],
   "source": [
    "source_df = pd.read_csv('C:\\\\Users\\\\Jonathan McAwesome\\\\Dropbox\\\\Projects\\\\UNICEF_Flood_Prediction_in_Malawi\\\\Source_Data\\\\Zindi\\\\train.csv',index_col='Square_ID')"
   ]
  },
  {
   "cell_type": "code",
   "execution_count": 3,
   "metadata": {},
   "outputs": [
    {
     "name": "stderr",
     "output_type": "stream",
     "text": [
      "C:\\ProgramData\\Anaconda3\\lib\\site-packages\\ipykernel_launcher.py:13: SettingWithCopyWarning: \n",
      "A value is trying to be set on a copy of a slice from a DataFrame.\n",
      "Try using .loc[row_indexer,col_indexer] = value instead\n",
      "\n",
      "See the caveats in the documentation: http://pandas.pydata.org/pandas-docs/stable/indexing.html#indexing-view-versus-copy\n",
      "  del sys.path[0]\n",
      "C:\\ProgramData\\Anaconda3\\lib\\site-packages\\ipykernel_launcher.py:21: SettingWithCopyWarning: \n",
      "A value is trying to be set on a copy of a slice from a DataFrame.\n",
      "Try using .loc[row_indexer,col_indexer] = value instead\n",
      "\n",
      "See the caveats in the documentation: http://pandas.pydata.org/pandas-docs/stable/indexing.html#indexing-view-versus-copy\n"
     ]
    }
   ],
   "source": [
    "# Change Date Ranges to Week1,Week2 etc.\n",
    "\n",
    "column_names = list(source_df.columns)\n",
    "source_df_2015 =source_df[['X','Y','elevation','LC_Type1_mode','target_2015']]\n",
    "source_df_2019 =source_df[['X','Y','elevation','LC_Type1_mode']]\n",
    "\n",
    "x=1\n",
    "\n",
    "for i in column_names:\n",
    "    if i[0:6]=='precip':\n",
    "        #print(type(i[7:11]))\n",
    "        if i[7:11] == '2014'or i[7:11] =='2015':\n",
    "            source_df_2015['Week'+str(x)] = source_df[str(i)]\n",
    "            #source_df.drop(i,axis=1,inplace=True)\n",
    "            x= x+1\n",
    "x=1\n",
    "for i in column_names:\n",
    "    if i[0:6]=='precip':\n",
    "        #print(type(i[7:11]))\n",
    "        if i[7:11] == '2019':\n",
    "            source_df_2019['Week'+str(x)] = source_df[str(i)]\n",
    "            #source_df.drop(i,axis=1,inplace=True)\n",
    "            x= x+1\n",
    "\n"
   ]
  },
  {
   "cell_type": "code",
   "execution_count": 4,
   "metadata": {},
   "outputs": [],
   "source": [
    "# Rework Catagorical Data to Numerical Location Type.\n",
    "source_df_2015 = pd.get_dummies(source_df_2015,prefix=\"lc_type\",columns=['LC_Type1_mode'])\n",
    "source_df_2019 = pd.get_dummies(source_df_2019,prefix=\"lc_type\",columns=['LC_Type1_mode'])"
   ]
  },
  {
   "cell_type": "code",
   "execution_count": 5,
   "metadata": {},
   "outputs": [],
   "source": [
    "y = list(source_df_2015['target_2015'])\n",
    "X = source_df_2015.drop('target_2015',axis=1)\n",
    "dtrain = xgb.DMatrix(X, label=y)\n"
   ]
  },
  {
   "cell_type": "code",
   "execution_count": 6,
   "metadata": {},
   "outputs": [],
   "source": [
    "param = {'max_depth':2, 'eta':1, 'objective':'binary:logistic' }\n",
    "num_round = 2\n",
    "xgb_model = xgb.train(param, dtrain, num_round)"
   ]
  },
  {
   "cell_type": "code",
   "execution_count": 7,
   "metadata": {},
   "outputs": [
    {
     "data": {
      "text/plain": [
       "array([0.05146445, 0.05146445, 0.05146445, ..., 0.0990817 , 0.0990817 ,\n",
       "       0.0990817 ], dtype=float32)"
      ]
     },
     "execution_count": 7,
     "metadata": {},
     "output_type": "execute_result"
    }
   ],
   "source": [
    "dpredict = xgb.DMatrix(source_df_2019)\n",
    "xgb_model.predict(dpredict)"
   ]
  },
  {
   "cell_type": "code",
   "execution_count": 8,
   "metadata": {},
   "outputs": [],
   "source": [
    "#source_df_2019['target_2019'].to_csv(r'linnear_prediction.csv',header=True)"
   ]
  }
 ],
 "metadata": {
  "kernelspec": {
   "display_name": "Python 3",
   "language": "python",
   "name": "python3"
  },
  "language_info": {
   "codemirror_mode": {
    "name": "ipython",
    "version": 3
   },
   "file_extension": ".py",
   "mimetype": "text/x-python",
   "name": "python",
   "nbconvert_exporter": "python",
   "pygments_lexer": "ipython3",
   "version": "3.7.3"
  }
 },
 "nbformat": 4,
 "nbformat_minor": 2
}
